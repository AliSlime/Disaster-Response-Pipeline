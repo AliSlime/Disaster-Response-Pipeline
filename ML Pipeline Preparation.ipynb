{
 "cells": [
  {
   "cell_type": "markdown",
   "metadata": {},
   "source": [
    "# ML Pipeline Preparation\n",
    "Follow the instructions below to help you create your ML pipeline.\n",
    "### 1. Import libraries and load data from database.\n",
    "- Import Python libraries\n",
    "- Load dataset from database with [`read_sql_table`](https://pandas.pydata.org/pandas-docs/stable/generated/pandas.read_sql_table.html)\n",
    "- Define feature and target variables X and Y"
   ]
  },
  {
   "cell_type": "code",
   "execution_count": 1,
   "metadata": {},
   "outputs": [
    {
     "name": "stderr",
     "output_type": "stream",
     "text": [
      "/home/mj/anaconda3/envs/py36/lib/python3.6/site-packages/sklearn/ensemble/weight_boosting.py:29: DeprecationWarning: numpy.core.umath_tests is an internal NumPy module and should not be imported. It will be removed in a future NumPy release.\n",
      "  from numpy.core.umath_tests import inner1d\n"
     ]
    },
    {
     "name": "stdout",
     "output_type": "stream",
     "text": [
      "[nltk_data] Downloading package wordnet to /home/mj/nltk_data...\n",
      "[nltk_data]   Package wordnet is already up-to-date!\n",
      "[nltk_data] Downloading package stopwords to /home/mj/nltk_data...\n",
      "[nltk_data]   Package stopwords is already up-to-date!\n",
      "[nltk_data] Downloading package punkt to /home/mj/nltk_data...\n",
      "[nltk_data]   Package punkt is already up-to-date!\n"
     ]
    },
    {
     "data": {
      "text/plain": [
       "True"
      ]
     },
     "execution_count": 1,
     "metadata": {},
     "output_type": "execute_result"
    }
   ],
   "source": [
    "# import libraries\n",
    "import re\n",
    "import numpy as np\n",
    "import pandas as pd\n",
    "import nltk\n",
    "import pickle\n",
    "\n",
    "from sqlalchemy import create_engine\n",
    "from nltk.corpus import stopwords\n",
    "from nltk.tokenize import word_tokenize\n",
    "from nltk.stem import WordNetLemmatizer\n",
    "from nltk.stem.porter import PorterStemmer\n",
    "from sklearn.pipeline import Pipeline\n",
    "from sklearn.feature_extraction.text import CountVectorizer,TfidfTransformer\n",
    "from sklearn.multioutput import MultiOutputClassifier\n",
    "from sklearn.tree import DecisionTreeClassifier\n",
    "from sklearn.model_selection import train_test_split,GridSearchCV\n",
    "from sklearn.ensemble import RandomForestClassifier,AdaBoostClassifier\n",
    "from sklearn.neighbors import KNeighborsClassifier\n",
    "\n",
    "from sklearn.metrics import classification_report,f1_score,accuracy_score,log_loss\n",
    "\n",
    "nltk.download('wordnet')\n",
    "nltk.download('stopwords')\n",
    "nltk.download('punkt')"
   ]
  },
  {
   "cell_type": "code",
   "execution_count": 2,
   "metadata": {},
   "outputs": [],
   "source": [
    "# load data from database\n",
    "engine = create_engine('sqlite:///InsertDatabaseName.db')\n",
    "df = pd.read_sql_table('InsertTableName', engine)\n",
    "\n",
    "Y_labels = ['related', 'request', 'offer', 'aid_related', \n",
    "        'medical_help', 'medical_products', 'search_and_rescue', \n",
    "        'security', 'military', 'child_alone', 'water', 'food', \n",
    "        'shelter', 'clothing', 'money', 'missing_people', 'refugees', \n",
    "        'death', 'other_aid', 'infrastructure_related', 'transport', \n",
    "        'buildings', 'electricity', 'tools', 'hospitals', 'shops', \n",
    "        'aid_centers', 'other_infrastructure', 'weather_related', \n",
    "        'floods', 'storm', 'fire', 'earthquake', 'cold', \n",
    "        'other_weather', 'direct_report']\n",
    "X = df['message'].values\n",
    "Y = df[Y_labels].values\n",
    "category_names = Y_labels"
   ]
  },
  {
   "cell_type": "markdown",
   "metadata": {},
   "source": [
    "### 2. Write a tokenization function to process your text data"
   ]
  },
  {
   "cell_type": "code",
   "execution_count": 3,
   "metadata": {},
   "outputs": [
    {
     "data": {
      "text/plain": [
       "['un',\n",
       " 'report',\n",
       " 'leogane',\n",
       " '80',\n",
       " '90',\n",
       " 'destroyed',\n",
       " 'hospital',\n",
       " 'st',\n",
       " 'croix',\n",
       " 'functioning',\n",
       " 'need',\n",
       " 'supply',\n",
       " 'desperately']"
      ]
     },
     "execution_count": 3,
     "metadata": {},
     "output_type": "execute_result"
    }
   ],
   "source": [
    "def tokenize(text):\n",
    "    stop_words = stopwords.words('english')\n",
    "    lemmatizer = WordNetLemmatizer()\n",
    "    \n",
    "    #remove punctation\n",
    "    text = re.sub(r\"[^a-zA-Z0-9]\",' ',text.lower())\n",
    "    \n",
    "    #tokenize text\n",
    "    tokens = word_tokenize(text)\n",
    "    \n",
    "    #lemmatize and remove stop words\n",
    "    tokens = [lemmatizer.lemmatize(word) for word in tokens if word not in stop_words]    \n",
    "    \n",
    "    return (tokens)\n",
    "\n",
    "#test\n",
    "tokenize(X[3])"
   ]
  },
  {
   "cell_type": "markdown",
   "metadata": {},
   "source": [
    "### 3. Build a machine learning pipeline\n",
    "- You'll find the [MultiOutputClassifier](http://scikit-learn.org/stable/modules/generated/sklearn.multioutput.MultiOutputClassifier.html) helpful for predicting multiple target variables."
   ]
  },
  {
   "cell_type": "code",
   "execution_count": 4,
   "metadata": {},
   "outputs": [],
   "source": [
    "pipeline = Pipeline([\n",
    "    ('vect',CountVectorizer()),\n",
    "    ('tfidf',TfidfTransformer()),\n",
    "    ('clf',MultiOutputClassifier(DecisionTreeClassifier(random_state=42),n_jobs=-1))\n",
    "])"
   ]
  },
  {
   "cell_type": "markdown",
   "metadata": {},
   "source": [
    "### 4. Train pipeline\n",
    "- Split data into train and test sets\n",
    "- Train pipeline"
   ]
  },
  {
   "cell_type": "code",
   "execution_count": 5,
   "metadata": {},
   "outputs": [
    {
     "data": {
      "text/plain": [
       "Pipeline(memory=None,\n",
       "     steps=[('vect', CountVectorizer(analyzer='word', binary=False, decode_error='strict',\n",
       "        dtype=<class 'numpy.int64'>, encoding='utf-8', input='content',\n",
       "        lowercase=True, max_df=1.0, max_features=None, min_df=1,\n",
       "        ngram_range=(1, 1), preprocessor=None, stop_words=None,\n",
       "        strip...tion_leaf=0.0, presort=False, random_state=42,\n",
       "            splitter='best'),\n",
       "           n_jobs=-1))])"
      ]
     },
     "execution_count": 5,
     "metadata": {},
     "output_type": "execute_result"
    }
   ],
   "source": [
    "X_train, X_test,y_train, y_test = train_test_split(X, Y, test_size=0.2,random_state=42)\n",
    "\n",
    "pipeline.fit(X_train,y_train)"
   ]
  },
  {
   "cell_type": "markdown",
   "metadata": {},
   "source": [
    "### 5. Test your model\n",
    "Report the f1 score, precision and recall for each output category of the dataset. You can do this by iterating through the columns and calling sklearn's `classification_report` on each."
   ]
  },
  {
   "cell_type": "code",
   "execution_count": 6,
   "metadata": {},
   "outputs": [
    {
     "name": "stdout",
     "output_type": "stream",
     "text": [
      "Computing Accuracy for each Category\n",
      "related  Accuracy:  0.6636779855017169\n",
      "request  Accuracy:  0.7573445249904617\n",
      "offer  Accuracy:  0.9919877909194964\n",
      "aid_related  Accuracy:  0.5331934376192293\n",
      "medical_help  Accuracy:  0.8668447157573446\n",
      "medical_products  Accuracy:  0.9135826020602823\n",
      "search_and_rescue  Accuracy:  0.9471575734452499\n",
      "security  Accuracy:  0.9692865318580695\n",
      "military  Accuracy:  0.9395268981304845\n",
      "child_alone  Accuracy:  1.0\n",
      "water  Accuracy:  0.8922167111789393\n",
      "food  Accuracy:  0.8174360930942388\n",
      "shelter  Accuracy:  0.8401373521556658\n",
      "clothing  Accuracy:  0.9713849675696299\n",
      "money  Accuracy:  0.9566959175887066\n",
      "missing_people  Accuracy:  0.9753910721098817\n",
      "refugees  Accuracy:  0.9376192293017932\n",
      "death  Accuracy:  0.9147272033574971\n",
      "other_aid  Accuracy:  0.7813811522319726\n",
      "infrastructure_related  Accuracy:  0.8859214040442579\n",
      "transport  Accuracy:  0.9118657001144601\n",
      "buildings  Accuracy:  0.9101487981686379\n",
      "electricity  Accuracy:  0.960129721480351\n",
      "tools  Accuracy:  0.9883632201449828\n",
      "hospitals  Accuracy:  0.9797787104158718\n",
      "shops  Accuracy:  0.9938954597481877\n",
      "aid_centers  Accuracy:  0.979969477298741\n",
      "other_infrastructure  Accuracy:  0.9217855780236551\n",
      "weather_related  Accuracy:  0.6501335368180083\n",
      "floods  Accuracy:  0.8609309423884014\n",
      "storm  Accuracy:  0.8605494086226632\n",
      "fire  Accuracy:  0.9801602441816101\n",
      "earthquake  Accuracy:  0.861884776802747\n",
      "cold  Accuracy:  0.9650896604349485\n",
      "other_weather  Accuracy:  0.9051888592140405\n",
      "direct_report  Accuracy:  0.7315909958031286\n",
      "\n",
      " Classification Report\n",
      "                        precision    recall  f1-score   support\n",
      "\n",
      "               related       0.77      0.79      0.78      3993\n",
      "               request       0.27      0.26      0.27       883\n",
      "                 offer       0.05      0.04      0.05        24\n",
      "           aid_related       0.43      0.41      0.42      2150\n",
      "          medical_help       0.08      0.07      0.07       419\n",
      "      medical_products       0.05      0.04      0.04       256\n",
      "     search_and_rescue       0.02      0.02      0.02       138\n",
      "              security       0.05      0.03      0.04       108\n",
      "              military       0.04      0.04      0.04       171\n",
      "           child_alone       0.00      0.00      0.00         0\n",
      "                 water       0.05      0.05      0.05       316\n",
      "                  food       0.13      0.12      0.12       564\n",
      "               shelter       0.08      0.08      0.08       468\n",
      "              clothing       0.01      0.01      0.01        85\n",
      "                 money       0.03      0.03      0.03       120\n",
      "        missing_people       0.00      0.00      0.00        67\n",
      "              refugees       0.08      0.06      0.07       200\n",
      "                 death       0.07      0.07      0.07       243\n",
      "             other_aid       0.12      0.12      0.12       671\n",
      "infrastructure_related       0.08      0.07      0.07       347\n",
      "             transport       0.06      0.05      0.05       255\n",
      "             buildings       0.09      0.08      0.08       271\n",
      "           electricity       0.03      0.03      0.03       112\n",
      "                 tools       0.00      0.00      0.00        28\n",
      "             hospitals       0.00      0.00      0.00        60\n",
      "                 shops       0.00      0.00      0.00        17\n",
      "           aid_centers       0.06      0.05      0.05        64\n",
      "  other_infrastructure       0.08      0.06      0.07       242\n",
      "       weather_related       0.36      0.34      0.35      1456\n",
      "                floods       0.13      0.11      0.12       448\n",
      "                 storm       0.23      0.19      0.21       507\n",
      "                  fire       0.00      0.00      0.00        54\n",
      "            earthquake       0.22      0.21      0.21       475\n",
      "                  cold       0.01      0.01      0.01       101\n",
      "         other_weather       0.06      0.06      0.06       265\n",
      "         direct_report       0.27      0.25      0.26      1001\n",
      "\n",
      "           avg / total       0.35      0.34      0.34     16579\n",
      "\n"
     ]
    },
    {
     "name": "stderr",
     "output_type": "stream",
     "text": [
      "/home/mj/anaconda3/envs/py36/lib/python3.6/site-packages/sklearn/metrics/classification.py:1135: UndefinedMetricWarning: Precision and F-score are ill-defined and being set to 0.0 in labels with no predicted samples.\n",
      "  'precision', 'predicted', average, warn_for)\n",
      "/home/mj/anaconda3/envs/py36/lib/python3.6/site-packages/sklearn/metrics/classification.py:1137: UndefinedMetricWarning: Recall and F-score are ill-defined and being set to 0.0 in labels with no true samples.\n",
      "  'recall', 'true', average, warn_for)\n"
     ]
    }
   ],
   "source": [
    "## get f1 score\n",
    "y_pred = pipeline.predict(X_test)\n",
    "print(\"Computing Accuracy for each Category\")\n",
    "for i in range(36):\n",
    "    print(category_names[i], \" Accuracy: \", accuracy_score(y_test[:,i],y_pred[:,i]))\n",
    "print(\"\\n Classification Report\")\n",
    "print(classification_report(y_test, y_pred, target_names=category_names))"
   ]
  },
  {
   "cell_type": "markdown",
   "metadata": {},
   "source": [
    "### 6. Improve your model\n",
    "Use grid search to find better parameters. "
   ]
  },
  {
   "cell_type": "code",
   "execution_count": 7,
   "metadata": {},
   "outputs": [],
   "source": [
    "parameters = {\n",
    "    'vect__min_df': [1],\n",
    "    'vect__lowercase': [False],\n",
    "    'tfidf__smooth_idf': [False],\n",
    "}\n",
    "\n",
    "cv = GridSearchCV(pipeline,param_grid=parameters,cv=2,n_jobs=-1)"
   ]
  },
  {
   "cell_type": "markdown",
   "metadata": {},
   "source": [
    "### 7. Test your model\n",
    "Show the accuracy, precision, and recall of the tuned model.  \n",
    "\n",
    "Since this project focuses on code quality, process, and  pipelines, there is no minimum performance metric needed to pass. However, make sure to fine tune your models for accuracy, precision and recall to make your project stand out - especially for your portfolio!"
   ]
  },
  {
   "cell_type": "code",
   "execution_count": 8,
   "metadata": {},
   "outputs": [
    {
     "name": "stderr",
     "output_type": "stream",
     "text": [
      "/home/mj/anaconda3/envs/py36/lib/python3.6/site-packages/sklearn/externals/joblib/parallel.py:547: UserWarning: Multiprocessing-backed parallel loops cannot be nested, setting n_jobs=1\n",
      "  **self._backend_args)\n",
      "/home/mj/anaconda3/envs/py36/lib/python3.6/site-packages/sklearn/externals/joblib/parallel.py:547: UserWarning: Multiprocessing-backed parallel loops cannot be nested, setting n_jobs=1\n",
      "  **self._backend_args)\n",
      "/home/mj/anaconda3/envs/py36/lib/python3.6/site-packages/sklearn/externals/joblib/parallel.py:547: UserWarning: Multiprocessing-backed parallel loops cannot be nested, setting n_jobs=1\n",
      "  **self._backend_args)\n",
      "/home/mj/anaconda3/envs/py36/lib/python3.6/site-packages/sklearn/externals/joblib/parallel.py:547: UserWarning: Multiprocessing-backed parallel loops cannot be nested, setting n_jobs=1\n",
      "  **self._backend_args)\n"
     ]
    },
    {
     "data": {
      "text/plain": [
       "GridSearchCV(cv=2, error_score='raise',\n",
       "       estimator=Pipeline(memory=None,\n",
       "     steps=[('vect', CountVectorizer(analyzer='word', binary=False, decode_error='strict',\n",
       "        dtype=<class 'numpy.int64'>, encoding='utf-8', input='content',\n",
       "        lowercase=True, max_df=1.0, max_features=None, min_df=1,\n",
       "        ngram_range=(1, 1), preprocessor=None, stop_words=None,\n",
       "        strip...tion_leaf=0.0, presort=False, random_state=42,\n",
       "            splitter='best'),\n",
       "           n_jobs=-1))]),\n",
       "       fit_params=None, iid=True, n_jobs=-1,\n",
       "       param_grid={'vect__min_df': [1], 'vect__lowercase': [False], 'tfidf__smooth_idf': [False]},\n",
       "       pre_dispatch='2*n_jobs', refit=True, return_train_score='warn',\n",
       "       scoring=None, verbose=0)"
      ]
     },
     "execution_count": 8,
     "metadata": {},
     "output_type": "execute_result"
    }
   ],
   "source": [
    "cv.fit(X_train, y_train)"
   ]
  },
  {
   "cell_type": "code",
   "execution_count": 9,
   "metadata": {},
   "outputs": [
    {
     "data": {
      "text/plain": [
       "0.03143334128309087"
      ]
     },
     "execution_count": 9,
     "metadata": {},
     "output_type": "execute_result"
    }
   ],
   "source": [
    "cv.best_score_"
   ]
  },
  {
   "cell_type": "code",
   "execution_count": 10,
   "metadata": {},
   "outputs": [
    {
     "name": "stdout",
     "output_type": "stream",
     "text": [
      "Computing Accuracy for each Category\n",
      "related  Accuracy:  0.6579549790156429\n",
      "request  Accuracy:  0.7607783288821061\n",
      "offer  Accuracy:  0.9914154902708889\n",
      "aid_related  Accuracy:  0.5335749713849676\n",
      "medical_help  Accuracy:  0.8605494086226632\n",
      "medical_products  Accuracy:  0.9152995040061045\n",
      "search_and_rescue  Accuracy:  0.9481114078595956\n",
      "security  Accuracy:  0.9671880961465089\n",
      "military  Accuracy:  0.9414345669591759\n",
      "child_alone  Accuracy:  1.0\n",
      "water  Accuracy:  0.8885921404044258\n",
      "food  Accuracy:  0.8147653567340709\n",
      "shelter  Accuracy:  0.8416634872186188\n",
      "clothing  Accuracy:  0.9710034338038916\n",
      "money  Accuracy:  0.9549790156428843\n",
      "missing_people  Accuracy:  0.9742464708126669\n",
      "refugees  Accuracy:  0.9393361312476154\n",
      "death  Accuracy:  0.9120564669973292\n",
      "other_aid  Accuracy:  0.790537962609691\n",
      "infrastructure_related  Accuracy:  0.8826783670354826\n",
      "transport  Accuracy:  0.9097672644028997\n",
      "buildings  Accuracy:  0.9095764975200306\n",
      "electricity  Accuracy:  0.9597481877146128\n",
      "tools  Accuracy:  0.9874093857306372\n",
      "hospitals  Accuracy:  0.9795879435330027\n",
      "shops  Accuracy:  0.9935139259824495\n",
      "aid_centers  Accuracy:  0.9778710415871804\n",
      "other_infrastructure  Accuracy:  0.9164441053033193\n",
      "weather_related  Accuracy:  0.6604349484929416\n",
      "floods  Accuracy:  0.8519648988935521\n",
      "storm  Accuracy:  0.8620755436856162\n",
      "fire  Accuracy:  0.9795879435330027\n",
      "earthquake  Accuracy:  0.8630293780999618\n",
      "cold  Accuracy:  0.9652804273178176\n",
      "other_weather  Accuracy:  0.9034719572682183\n",
      "direct_report  Accuracy:  0.7180465471194201\n",
      "\n",
      " Classification Report\n",
      "                        precision    recall  f1-score   support\n",
      "\n",
      "               related       0.77      0.79      0.78      3993\n",
      "               request       0.28      0.26      0.27       883\n",
      "                 offer       0.00      0.00      0.00        24\n",
      "           aid_related       0.43      0.42      0.42      2150\n",
      "          medical_help       0.07      0.06      0.07       419\n",
      "      medical_products       0.03      0.02      0.02       256\n",
      "     search_and_rescue       0.05      0.06      0.06       138\n",
      "              security       0.04      0.03      0.03       108\n",
      "              military       0.08      0.08      0.08       171\n",
      "           child_alone       0.00      0.00      0.00         0\n",
      "                 water       0.06      0.05      0.06       316\n",
      "                  food       0.13      0.13      0.13       564\n",
      "               shelter       0.09      0.09      0.09       468\n",
      "              clothing       0.00      0.00      0.00        85\n",
      "                 money       0.04      0.04      0.04       120\n",
      "        missing_people       0.00      0.00      0.00        67\n",
      "              refugees       0.07      0.04      0.05       200\n",
      "                 death       0.04      0.04      0.04       243\n",
      "             other_aid       0.14      0.13      0.13       671\n",
      "infrastructure_related       0.06      0.05      0.06       347\n",
      "             transport       0.04      0.04      0.04       255\n",
      "             buildings       0.10      0.09      0.09       271\n",
      "           electricity       0.05      0.05      0.05       112\n",
      "                 tools       0.00      0.00      0.00        28\n",
      "             hospitals       0.00      0.00      0.00        60\n",
      "                 shops       0.00      0.00      0.00        17\n",
      "           aid_centers       0.00      0.00      0.00        64\n",
      "  other_infrastructure       0.03      0.02      0.03       242\n",
      "       weather_related       0.38      0.34      0.36      1456\n",
      "                floods       0.10      0.09      0.10       448\n",
      "                 storm       0.21      0.15      0.18       507\n",
      "                  fire       0.00      0.00      0.00        54\n",
      "            earthquake       0.23      0.22      0.22       475\n",
      "                  cold       0.02      0.02      0.02       101\n",
      "         other_weather       0.04      0.04      0.04       265\n",
      "         direct_report       0.25      0.24      0.25      1001\n",
      "\n",
      "           avg / total       0.34      0.34      0.34     16579\n",
      "\n"
     ]
    },
    {
     "name": "stderr",
     "output_type": "stream",
     "text": [
      "/home/mj/anaconda3/envs/py36/lib/python3.6/site-packages/sklearn/metrics/classification.py:1135: UndefinedMetricWarning: Precision and F-score are ill-defined and being set to 0.0 in labels with no predicted samples.\n",
      "  'precision', 'predicted', average, warn_for)\n",
      "/home/mj/anaconda3/envs/py36/lib/python3.6/site-packages/sklearn/metrics/classification.py:1137: UndefinedMetricWarning: Recall and F-score are ill-defined and being set to 0.0 in labels with no true samples.\n",
      "  'recall', 'true', average, warn_for)\n"
     ]
    }
   ],
   "source": [
    "## get f1 score\n",
    "y_pred = cv.predict(X_test)\n",
    "\n",
    "print(\"Computing Accuracy for each Category\")\n",
    "for i in range(36):\n",
    "    print(category_names[i], \" Accuracy: \", accuracy_score(y_test[:,i],y_pred[:,i]))\n",
    "print(\"\\n Classification Report\")\n",
    "print(classification_report(y_test, y_pred, target_names=category_names))"
   ]
  },
  {
   "cell_type": "markdown",
   "metadata": {},
   "source": [
    "### 8. Try improving your model further. Here are a few ideas:\n",
    "* try other machine learning algorithms\n",
    "* add other features besides the TF-IDF"
   ]
  },
  {
   "cell_type": "code",
   "execution_count": 11,
   "metadata": {},
   "outputs": [
    {
     "name": "stderr",
     "output_type": "stream",
     "text": [
      "/home/mj/anaconda3/envs/py36/lib/python3.6/site-packages/sklearn/externals/joblib/parallel.py:547: UserWarning: Multiprocessing-backed parallel loops cannot be nested, setting n_jobs=1\n",
      "  **self._backend_args)\n",
      "/home/mj/anaconda3/envs/py36/lib/python3.6/site-packages/sklearn/externals/joblib/parallel.py:547: UserWarning: Multiprocessing-backed parallel loops cannot be nested, setting n_jobs=1\n",
      "  **self._backend_args)\n",
      "/home/mj/anaconda3/envs/py36/lib/python3.6/site-packages/sklearn/externals/joblib/parallel.py:547: UserWarning: Multiprocessing-backed parallel loops cannot be nested, setting n_jobs=1\n",
      "  **self._backend_args)\n",
      "/home/mj/anaconda3/envs/py36/lib/python3.6/site-packages/sklearn/externals/joblib/parallel.py:547: UserWarning: Multiprocessing-backed parallel loops cannot be nested, setting n_jobs=1\n",
      "  **self._backend_args)\n"
     ]
    },
    {
     "data": {
      "text/plain": [
       "GridSearchCV(cv=2, error_score='raise',\n",
       "       estimator=Pipeline(memory=None,\n",
       "     steps=[('vect', CountVectorizer(analyzer='word', binary=False, decode_error='strict',\n",
       "        dtype=<class 'numpy.int64'>, encoding='utf-8', input='content',\n",
       "        lowercase=True, max_df=1.0, max_features=None, min_df=1,\n",
       "        ngram_range=(1, 1), preprocessor=None, stop_words=None,\n",
       "        strip...imator=None,\n",
       "          learning_rate=1.0, n_estimators=50, random_state=42),\n",
       "           n_jobs=-1))]),\n",
       "       fit_params=None, iid=True, n_jobs=-1,\n",
       "       param_grid={'vect__min_df': [1], 'vect__lowercase': [False], 'tfidf__smooth_idf': [False]},\n",
       "       pre_dispatch='2*n_jobs', refit=True, return_train_score='warn',\n",
       "       scoring=None, verbose=0)"
      ]
     },
     "execution_count": 11,
     "metadata": {},
     "output_type": "execute_result"
    }
   ],
   "source": [
    "pipeline = Pipeline([\n",
    "    ('vect', CountVectorizer(tokenizer = tokenize)),\n",
    "    ('tfidf', TfidfTransformer()),\n",
    "#     ('clf', MultiOutputClassifier(RandomForestClassifier(random_state = 42), n_jobs = -1)),\n",
    "#     ('clf', MultiOutputClassifier(KNeighborsClassifier(), n_jobs = -1)),\n",
    "    ('clf', MultiOutputClassifier(AdaBoostClassifier(random_state=42), n_jobs = -1))\n",
    "])\n",
    "\n",
    "parameters = {\n",
    "    'vect__min_df': [1],\n",
    "    'vect__lowercase': [False],\n",
    "    'tfidf__smooth_idf': [False],\n",
    "}\n",
    "\n",
    "cv = GridSearchCV(pipeline, parameters, cv = 2, n_jobs = -1)\n",
    "cv.fit(X_train, y_train)"
   ]
  },
  {
   "cell_type": "code",
   "execution_count": 12,
   "metadata": {},
   "outputs": [
    {
     "name": "stdout",
     "output_type": "stream",
     "text": [
      "Computing Accuracy for each Category\n",
      "related  Accuracy:  0.756390690576116\n",
      "request  Accuracy:  0.822014498283098\n",
      "offer  Accuracy:  0.9948492941625334\n",
      "aid_related  Accuracy:  0.5930942388401373\n",
      "medical_help  Accuracy:  0.918733307897749\n",
      "medical_products  Accuracy:  0.9509729111026326\n",
      "search_and_rescue  Accuracy:  0.9732926363983212\n",
      "security  Accuracy:  0.9790156428843952\n",
      "military  Accuracy:  0.9660434948492942\n",
      "child_alone  Accuracy:  1.0\n",
      "water  Accuracy:  0.9391453643647463\n",
      "food  Accuracy:  0.8897367417016406\n",
      "shelter  Accuracy:  0.9109118657001145\n",
      "clothing  Accuracy:  0.9820679130103014\n",
      "money  Accuracy:  0.9763449065242273\n",
      "missing_people  Accuracy:  0.9866463181991606\n",
      "refugees  Accuracy:  0.9608927890118275\n",
      "death  Accuracy:  0.9523082792827166\n",
      "other_aid  Accuracy:  0.8695154521175124\n",
      "infrastructure_related  Accuracy:  0.9334223578786722\n",
      "transport  Accuracy:  0.9496375429225486\n",
      "buildings  Accuracy:  0.9481114078595956\n",
      "electricity  Accuracy:  0.9782525753529188\n",
      "tools  Accuracy:  0.9944677603967951\n",
      "hospitals  Accuracy:  0.9876001526135063\n",
      "shops  Accuracy:  0.9963754292254865\n",
      "aid_centers  Accuracy:  0.9872186188477681\n",
      "other_infrastructure  Accuracy:  0.9528805799313239\n",
      "weather_related  Accuracy:  0.7344524990461656\n",
      "floods  Accuracy:  0.9147272033574971\n",
      "storm  Accuracy:  0.9028996566196108\n",
      "fire  Accuracy:  0.9881724532621137\n",
      "earthquake  Accuracy:  0.9160625715375811\n",
      "cold  Accuracy:  0.9793971766501335\n",
      "other_weather  Accuracy:  0.9483021747424647\n",
      "direct_report  Accuracy:  0.797787104158718\n",
      "\n",
      " Classification Report\n",
      "                        precision    recall  f1-score   support\n",
      "\n",
      "               related       0.77      0.98      0.86      3993\n",
      "               request       0.38      0.09      0.15       883\n",
      "                 offer       0.00      0.00      0.00        24\n",
      "           aid_related       0.51      0.17      0.26      2150\n",
      "          medical_help       0.00      0.00      0.00       419\n",
      "      medical_products       0.00      0.00      0.00       256\n",
      "     search_and_rescue       0.00      0.00      0.00       138\n",
      "              security       0.00      0.00      0.00       108\n",
      "              military       0.00      0.00      0.00       171\n",
      "           child_alone       0.00      0.00      0.00         0\n",
      "                 water       0.20      0.00      0.01       316\n",
      "                  food       0.21      0.01      0.02       564\n",
      "               shelter       1.00      0.00      0.00       468\n",
      "              clothing       0.00      0.00      0.00        85\n",
      "                 money       0.00      0.00      0.00       120\n",
      "        missing_people       0.00      0.00      0.00        67\n",
      "              refugees       0.00      0.00      0.00       200\n",
      "                 death       0.00      0.00      0.00       243\n",
      "             other_aid       0.00      0.00      0.00       671\n",
      "infrastructure_related       0.25      0.00      0.01       347\n",
      "             transport       0.00      0.00      0.00       255\n",
      "             buildings       0.00      0.00      0.00       271\n",
      "           electricity       0.25      0.01      0.02       112\n",
      "                 tools       0.00      0.00      0.00        28\n",
      "             hospitals       0.00      0.00      0.00        60\n",
      "                 shops       0.00      0.00      0.00        17\n",
      "           aid_centers       0.00      0.00      0.00        64\n",
      "  other_infrastructure       0.00      0.00      0.00       242\n",
      "       weather_related       0.58      0.16      0.26      1456\n",
      "                floods       1.00      0.00      0.00       448\n",
      "                 storm       0.48      0.06      0.11       507\n",
      "                  fire       0.00      0.00      0.00        54\n",
      "            earthquake       0.65      0.16      0.25       475\n",
      "                  cold       0.00      0.00      0.00       101\n",
      "         other_weather       0.00      0.00      0.00       265\n",
      "         direct_report       0.36      0.07      0.12      1001\n",
      "\n",
      "           avg / total       0.45      0.29      0.29     16579\n",
      "\n"
     ]
    },
    {
     "name": "stderr",
     "output_type": "stream",
     "text": [
      "/home/mj/anaconda3/envs/py36/lib/python3.6/site-packages/sklearn/metrics/classification.py:1135: UndefinedMetricWarning: Precision and F-score are ill-defined and being set to 0.0 in labels with no predicted samples.\n",
      "  'precision', 'predicted', average, warn_for)\n",
      "/home/mj/anaconda3/envs/py36/lib/python3.6/site-packages/sklearn/metrics/classification.py:1137: UndefinedMetricWarning: Recall and F-score are ill-defined and being set to 0.0 in labels with no true samples.\n",
      "  'recall', 'true', average, warn_for)\n"
     ]
    }
   ],
   "source": [
    "## get f1 score\n",
    "y_pred = cv.predict(X_test)\n",
    "print(\"Computing Accuracy for each Category\")\n",
    "for i in range(36):\n",
    "    print(category_names[i], \" Accuracy: \", accuracy_score(y_test[:,i],y_pred[:,i]))\n",
    "print(\"\\n Classification Report\")\n",
    "print(classification_report(y_test, y_pred, target_names=category_names))"
   ]
  },
  {
   "cell_type": "markdown",
   "metadata": {},
   "source": [
    "### 9. Export your model as a pickle file"
   ]
  },
  {
   "cell_type": "code",
   "execution_count": 13,
   "metadata": {},
   "outputs": [],
   "source": [
    "with open('clf.pickle', 'wb') as f:\n",
    "    pickle.dump(cv, f)"
   ]
  },
  {
   "cell_type": "markdown",
   "metadata": {},
   "source": [
    "### 10. Use this notebook to complete `train.py`\n",
    "Use the template file attached in the Resources folder to write a script that runs the steps above to create a database and export a model based on a new dataset specified by the user."
   ]
  },
  {
   "cell_type": "code",
   "execution_count": null,
   "metadata": {},
   "outputs": [],
   "source": []
  }
 ],
 "metadata": {
  "kernelspec": {
   "display_name": "Python 3",
   "language": "python",
   "name": "python3"
  },
  "language_info": {
   "codemirror_mode": {
    "name": "ipython",
    "version": 3
   },
   "file_extension": ".py",
   "mimetype": "text/x-python",
   "name": "python",
   "nbconvert_exporter": "python",
   "pygments_lexer": "ipython3",
   "version": "3.6.6"
  }
 },
 "nbformat": 4,
 "nbformat_minor": 2
}
